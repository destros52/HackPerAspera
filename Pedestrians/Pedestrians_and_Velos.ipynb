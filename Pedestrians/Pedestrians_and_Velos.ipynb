{
 "cells": [
  {
   "cell_type": "code",
   "execution_count": 2,
   "id": "0cf8a854",
   "metadata": {},
   "outputs": [
    {
     "name": "stdout",
     "output_type": "stream",
     "text": [
      "✅ Map saved: Zurich_street_based_pedestrians_bicycles.html\n"
     ]
    }
   ],
   "source": [
    "import osmnx as ox\n",
    "import folium\n",
    "import random\n",
    "import pandas as pd\n",
    "\n",
    "# ---------- 1) Download Zurich's street network ----------\n",
    "place = \"Zürich, Switzerland\"\n",
    "G = ox.graph_from_place(place, network_type=\"walk\")   # pedestrian network\n",
    "G_bike = ox.graph_from_place(place, network_type=\"bike\")  # bicycle network\n",
    "\n",
    "# ---------- 2) Function to generate random points on the graph ----------\n",
    "def random_points_on_graph(G, n_points):\n",
    "    edges = list(G.edges(keys=True, data=True))\n",
    "    points = []\n",
    "    for _ in range(n_points):\n",
    "        u, v, key, data = random.choice(edges)\n",
    "        geom = data.get(\"geometry\", None)\n",
    "        if geom:\n",
    "            point = geom.interpolate(random.random(), normalized=True)\n",
    "            points.append((point.y, point.x))\n",
    "        else:\n",
    "            # If the edge has no geometry, interpolate directly between the nodes\n",
    "            lat1, lon1 = G.nodes[u][\"y\"], G.nodes[u][\"x\"]\n",
    "            lat2, lon2 = G.nodes[v][\"y\"], G.nodes[v][\"x\"]\n",
    "            lat = lat1 + random.random() * (lat2 - lat1)\n",
    "            lon = lon1 + random.random() * (lon2 - lon1)\n",
    "            points.append((lat, lon))\n",
    "    return points\n",
    "\n",
    "# ---------- 3) Generate pedestrian and bicycle points ----------\n",
    "ped_points = random_points_on_graph(G, 500)\n",
    "bike_points = random_points_on_graph(G_bike, 500)\n",
    "\n",
    "df_ped = pd.DataFrame(ped_points, columns=[\"lat\", \"lon\"])\n",
    "df_ped[\"type\"] = \"pedestrian\"\n",
    "\n",
    "df_bike = pd.DataFrame(bike_points, columns=[\"lat\", \"lon\"])\n",
    "df_bike[\"type\"] = \"bicycle\"\n",
    "\n",
    "df_all = pd.concat([df_ped, df_bike], ignore_index=True)\n",
    "\n",
    "# ---------- 4) Create interactive map ----------\n",
    "m = folium.Map(location=[47.3769, 8.5417], zoom_start=13, tiles=\"CartoDB dark_matter\")\n",
    "color_map = {\"pedestrian\": \"#FF4D6D\", \"bicycle\": \"#00FFFF\"}\n",
    "\n",
    "for _, row in df_all.iterrows():\n",
    "    folium.CircleMarker(\n",
    "        location=[row[\"lat\"], row[\"lon\"]],\n",
    "        radius=2,\n",
    "        color=color_map[row[\"type\"]],\n",
    "        fill=True,\n",
    "        fill_opacity=0.8\n",
    "    ).add_to(m)\n",
    "\n",
    "# ---------- 5) Save map ----------\n",
    "output_html = \"Zurich_street_based_pedestrians_bicycles.html\"\n",
    "m.save(output_html)\n",
    "print(\"✅ Map saved:\", output_html)\n"
   ]
  }
 ],
 "metadata": {
  "kernelspec": {
   "display_name": "gee_env",
   "language": "python",
   "name": "python3"
  },
  "language_info": {
   "codemirror_mode": {
    "name": "ipython",
    "version": 3
   },
   "file_extension": ".py",
   "mimetype": "text/x-python",
   "name": "python",
   "nbconvert_exporter": "python",
   "pygments_lexer": "ipython3",
   "version": "3.13.3"
  }
 },
 "nbformat": 4,
 "nbformat_minor": 5
}
